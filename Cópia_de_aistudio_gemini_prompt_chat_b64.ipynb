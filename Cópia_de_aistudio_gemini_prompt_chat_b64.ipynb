{
  "cells": [
    {
      "cell_type": "markdown",
      "metadata": {
        "id": "view-in-github",
        "colab_type": "text"
      },
      "source": [
        "<a href=\"https://colab.research.google.com/github/JackieDataDriven/projetoalurajackie/blob/main/C%C3%B3pia_de_aistudio_gemini_prompt_chat_b64.ipynb\" target=\"_parent\"><img src=\"https://colab.research.google.com/assets/colab-badge.svg\" alt=\"Open In Colab\"/></a>"
      ]
    },
    {
      "cell_type": "markdown",
      "metadata": {
        "id": "Tce3stUlHN0L"
      },
      "source": [
        "##### Copyright 2023 Google LLC"
      ]
    },
    {
      "cell_type": "code",
      "execution_count": null,
      "metadata": {
        "id": "tuOe1ymfHZPu"
      },
      "outputs": [],
      "source": [
        "#@title Licensed under the Apache License, Version 2.0 (the \"License\");\n",
        "# you may not use this file except in compliance with the License.\n",
        "# You may obtain a copy of the License at\n",
        "#\n",
        "# https://www.apache.org/licenses/LICENSE-2.0\n",
        "#\n",
        "# Unless required by applicable law or agreed to in writing, software\n",
        "# distributed under the License is distributed on an \"AS IS\" BASIS,\n",
        "# WITHOUT WARRANTIES OR CONDITIONS OF ANY KIND, either express or implied.\n",
        "# See the License for the specific language governing permissions and\n",
        "# limitations under the License."
      ]
    },
    {
      "cell_type": "markdown",
      "metadata": {
        "id": "FKwyTRdwB8aW"
      },
      "source": [
        "## Setup"
      ]
    },
    {
      "cell_type": "markdown",
      "metadata": {
        "id": "rlE8UqxrDIez"
      },
      "source": [
        "### Install & import\n"
      ]
    },
    {
      "cell_type": "code",
      "execution_count": null,
      "metadata": {
        "id": "cZiU4TKzznh9"
      },
      "outputs": [],
      "source": [
        "!pip install -U -q google-generativeai"
      ]
    },
    {
      "cell_type": "code",
      "execution_count": null,
      "metadata": {
        "id": "kWIuwKG2_oWE"
      },
      "outputs": [],
      "source": [
        "# import necessary modules.\n",
        "import google.generativeai as genai\n",
        "import json\n",
        "import base64\n",
        "import pathlib\n",
        "import pprint\n",
        "import requests\n",
        "import mimetypes\n",
        "from IPython.display import Markdown"
      ]
    },
    {
      "cell_type": "markdown",
      "metadata": {
        "id": "Fet3lFjdKHEM"
      },
      "source": [
        "## Set the API key"
      ]
    },
    {
      "cell_type": "markdown",
      "metadata": {
        "id": "ZoRWILAtCzBE"
      },
      "source": [
        "Add your API_KEY to the secrets manager in the left pannel \"🔑\"."
      ]
    },
    {
      "cell_type": "code",
      "execution_count": null,
      "metadata": {
        "id": "LaLCwNlkCyQd"
      },
      "outputs": [],
      "source": [
        "from google.colab import userdata\n",
        "\n",
        "API_KEY=userdata.get('API_KEY')"
      ]
    },
    {
      "cell_type": "code",
      "execution_count": null,
      "metadata": {
        "id": "_SvYoR3WCeKr"
      },
      "outputs": [],
      "source": [
        "# Configure the client library by providing your API key.\n",
        "genai.configure(api_key=API_KEY)"
      ]
    },
    {
      "cell_type": "markdown",
      "metadata": {
        "id": "E7zAD69vE92b"
      },
      "source": [
        "### Call the API"
      ]
    },
    {
      "cell_type": "code",
      "source": [
        "!sudo apt install tesseract-ocr\n",
        "# Instalação de bibliotecas no Google Colaboratory.\n",
        "\n",
        "!pip install Pillow\n",
        "!pip install pytesseract"
      ],
      "metadata": {
        "colab": {
          "base_uri": "https://localhost:8080/"
        },
        "id": "MWs_jpOv19I2",
        "outputId": "6717df1b-85cc-4be3-cb3d-165759ec9c4d"
      },
      "execution_count": 25,
      "outputs": [
        {
          "output_type": "stream",
          "name": "stdout",
          "text": [
            "Reading package lists... Done\n",
            "Building dependency tree... Done\n",
            "Reading state information... Done\n",
            "tesseract-ocr is already the newest version (4.1.1-2.1build1).\n",
            "0 upgraded, 0 newly installed, 0 to remove and 45 not upgraded.\n",
            "Requirement already satisfied: Pillow in /usr/local/lib/python3.10/dist-packages (9.4.0)\n",
            "Collecting pytesseract\n",
            "  Downloading pytesseract-0.3.10-py3-none-any.whl (14 kB)\n",
            "Requirement already satisfied: packaging>=21.3 in /usr/local/lib/python3.10/dist-packages (from pytesseract) (24.0)\n",
            "Requirement already satisfied: Pillow>=8.0.0 in /usr/local/lib/python3.10/dist-packages (from pytesseract) (9.4.0)\n",
            "Installing collected packages: pytesseract\n",
            "Successfully installed pytesseract-0.3.10\n"
          ]
        }
      ]
    },
    {
      "cell_type": "code",
      "metadata": {
        "id": "ldY26daQiVah"
      },
      "source": [
        "# Importando as bibliotecas instaladas.\n",
        "\n",
        "from PIL import Image\n",
        "import pytesseract"
      ],
      "execution_count": 26,
      "outputs": []
    },
    {
      "cell_type": "code",
      "source": [
        "!sudo apt install tesseract-ocr\n",
        "\n",
        "from googleapiclient.discovery import build\n",
        "from googleapiclient.http import MediaFileUpload\n",
        "from google.oauth2 import service_account\n",
        "from google.auth.transport.requests import Request\n",
        "import cv2\n",
        "import pytesseract\n",
        "import pandas as pd\n",
        "import os\n",
        "\n"
      ],
      "metadata": {
        "colab": {
          "base_uri": "https://localhost:8080/"
        },
        "id": "6ICkjZL8yIUx",
        "outputId": "d8efcb0d-2e36-4580-c39f-acc947a8e4e2"
      },
      "execution_count": 27,
      "outputs": [
        {
          "output_type": "stream",
          "name": "stdout",
          "text": [
            "Reading package lists... Done\n",
            "Building dependency tree... Done\n",
            "Reading state information... Done\n",
            "tesseract-ocr is already the newest version (4.1.1-2.1build1).\n",
            "0 upgraded, 0 newly installed, 0 to remove and 45 not upgraded.\n"
          ]
        }
      ]
    },
    {
      "cell_type": "code",
      "source": [
        "\n",
        "\n",
        "# Dados da planilha do Google Sheets\n",
        "dados = \"https://docs.google.com/spreadsheets/d/1NCeucszWQAyks2dLHTrsMKDJJ75xq3C5v6_8h6VsJoo/edit?usp=sharing\"\n",
        "spreadsheet_id = \"1NCeucszWQAyks2dLHTrsMKDJJ75xq3C5v6_8h6VsJoo/edit#gid=0\"\n",
        "sheet_name = \"CatalogoBiblioteca\"\n",
        "\n",
        "# Baixar arquivo de credenciais do Google Drive\n",
        "caminho_arquivo_credenciais = \"https://drive.google.com/drive/folders/1PO18xqlfsTvhh8zVCd4UWV17bb_tyNGl\"\n",
        "\n",
        "\n",
        "\n"
      ],
      "metadata": {
        "id": "S3Y4zEy2TL_W"
      },
      "execution_count": 28,
      "outputs": []
    },
    {
      "cell_type": "code",
      "source": [
        "# Função para extrair texto da imagem\n",
        "caminho_imagem =\"https://drive.google.com/drive/folders/10X0hMigSttPX6G-L9CQk2cxVuAOP_afR?usp=drive_link\"\n",
        "def extrair_texto(caminho_imagem):\n",
        "   imagem = cv2.imread(caminho_imagem)\n",
        "   texto = pytesseract.image_to_string(imagem)\n",
        "   return texto\n",
        "\n"
      ],
      "metadata": {
        "id": "iimzdSkzy5tu"
      },
      "execution_count": 19,
      "outputs": []
    },
    {
      "cell_type": "code",
      "source": [
        "# Dados da pasta do Google Drive\n",
        "pasta_id = \"10X0hMigSttPX6G-L9CQk2cxVuAOP_afR\"\n",
        "\n",
        "# Dados da planilha do Google Sheets\n",
        "dados = \"https://docs.google.com/spreadsheets/d/1NCeucszWQAyks2dLHTrsMKDJJ75xq3C5v6_8h6VsJoo/edit?usp=sharing\"\n",
        "spreadsheet_id = \"1NCeucszWQAyks2dLHTrsMKDJJ75xq3C5v6_8h6VsJoo/edit#gid=0\"\n",
        "sheet_name = \"CatalogoBiblioteca\"\n",
        "\n",
        "# Baixar arquivo de credenciais do Google Drive\n",
        "caminho_arquivo_credenciais = \"https://drive.google.com/drive/folders/1PO18xqlfsTvhh8zVCd4UWV17bb_tyNGl\"\n",
        "\n",
        "# Define o caminho para o arquivo de credenciais da conta de serviço\n",
        "service_account_file = caminho_arquivo_credenciais\n",
        "\n",
        "#creds = service_account.Credentials.from_service_account_file(\n",
        "service_account_file, scopes=[\"https://www.googleapis.com/auth/spreadsheets\", \"https://www.googleapis.com/auth/drive\"]\n",
        "\n",
        "\n",
        "\n"
      ],
      "metadata": {
        "id": "ZWutqZtiS6D5"
      },
      "execution_count": 20,
      "outputs": []
    },
    {
      "cell_type": "code",
      "source": [
        "# Função para processar imagens de uma pasta do Google Drive\n",
        "pasta_id =\"10X0hMigSttPX6G-L9CQk2cxVuAOP_afR\"\n",
        "def processar_imagens(pasta_id):\n",
        "    resultados = []  # Initialize the resultados list\n",
        "    arquivos = drive_service.files().list(q=f\"'{pasta_id}' in parents\", fields='files(id, name)').execute()\n",
        "    for arquivo in arquivos.get('files', []):\n",
        "        if arquivo['name'].lower().endswith(('.jpg', '.jpeg', '.png')):\n",
        "            print(f\"Processando imagem: {arquivo['name']}\")\n",
        "            # Download da imagem do Google Drive\n",
        "            request = drive_service.files().get_media(fileId=arquivo['id'])\n",
        "            fh = io.BytesIO()\n",
        "            downloader = MediaIoBaseDownload(fh, request)\n",
        "            done = False\n",
        "            while done is False:\n",
        "                status, done = downloader.next_chunk()\n",
        "            fh.seek(0)\n",
        "            # Extrair texto da imagem\n",
        "            texto = extrair_texto(fh)\n",
        "\n",
        "            # Extrair informações relevantes do texto (título, autor, etc.)\n",
        "            # (You will need to implement the specific logic here based on the structure of the text)\n",
        "            # ...\n",
        "                        # Adicionar informações à lista de resultados\n",
        "            resultados.append({\n",
        "                'Título': titulo,\n",
        "                'Autor': autor,\n",
        "                'Editora': editora,\n",
        "                'Ano': ano,\n",
        "                'ISBN': isbn,\n",
        "            })\n",
        "\n",
        "    return resultados\n",
        "\n",
        "\n",
        "\n"
      ],
      "metadata": {
        "id": "3-7nw7EQzDWR"
      },
      "execution_count": 21,
      "outputs": []
    },
    {
      "cell_type": "code",
      "source": [
        "\n",
        "# Função para exportar dados para o Google Sheets\n",
        "dados = \"https://docs.google.com/spreadsheets/d/1NCeucszWQAyks2dLHTrsMKDJJ75xq3C5v6_8h6VsJoo/edit?usp=sharing\"\n",
        "spreadsheet_is = \"1NCeucszWQAyks2dLHTrsMKDJJ75xq3C5v6_8h6VsJoo/edit#gid=0\"\n",
        "def exportar_para_sheets(dados, spreadsheet_id, sheet_name='CatalogoBiblioteca'):\n",
        "   valores = [list(dados.values()) for dado in dados]\n",
        "   corpo = {\n",
        "       'values': valores\n",
        "   }\n",
        "   sheets_service.spreadsheets().values().update(\n",
        "       spreadsheetId=spreadsheet_id, range=f'{sheet_name}!A1',\n",
        "       valueInputOption='RAW', body=corpo).execute()\n",
        "\n",
        "# ID da pasta \"BibliotecaHeranca\" no Google Drive\n",
        "# pasta_id =\"10X0hMigSttPX6G-L9CQk2cxVuAOP_afR\"\n",
        "\n",
        "# Processar imagens da pasta#\n",
        "#dados = processar_imagens(pasta_id)\n",
        "\n",
        "\n"
      ],
      "metadata": {
        "id": "rQs4oEB6zJQI"
      },
      "execution_count": 22,
      "outputs": []
    }
  ],
  "metadata": {
    "colab": {
      "collapsed_sections": [
        "Tce3stUlHN0L"
      ],
      "provenance": [],
      "include_colab_link": true
    },
    "kernelspec": {
      "display_name": "Python 3",
      "name": "python3"
    }
  },
  "nbformat": 4,
  "nbformat_minor": 0
}