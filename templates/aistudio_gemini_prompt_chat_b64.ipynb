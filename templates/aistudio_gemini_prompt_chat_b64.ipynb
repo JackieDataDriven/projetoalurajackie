{
  "cells": [
    {
      "cell_type": "markdown",
      "metadata": {
        "id": "view-in-github",
        "colab_type": "text"
      },
      "source": [
        "<a href=\"https://colab.research.google.com/github/JackieDataDriven/projetoalurajackie/blob/main/templates/aistudio_gemini_prompt_chat_b64.ipynb\" target=\"_parent\"><img src=\"https://colab.research.google.com/assets/colab-badge.svg\" alt=\"Open In Colab\"/></a>"
      ]
    },
    {
      "cell_type": "markdown",
      "metadata": {
        "id": "Tce3stUlHN0L"
      },
      "source": [
        "##### Copyright 2023 Google LLC"
      ]
    },
    {
      "cell_type": "code",
      "execution_count": null,
      "metadata": {
        "id": "tuOe1ymfHZPu"
      },
      "outputs": [],
      "source": [
        "#@title Licensed under the Apache License, Version 2.0 (the \"License\");\n",
        "# you may not use this file except in compliance with the License.\n",
        "# You may obtain a copy of the License at\n",
        "#\n",
        "# https://www.apache.org/licenses/LICENSE-2.0\n",
        "#\n",
        "# Unless required by applicable law or agreed to in writing, software\n",
        "# distributed under the License is distributed on an \"AS IS\" BASIS,\n",
        "# WITHOUT WARRANTIES OR CONDITIONS OF ANY KIND, either express or implied.\n",
        "# See the License for the specific language governing permissions and\n",
        "# limitations under the License."
      ]
    },
    {
      "cell_type": "markdown",
      "metadata": {
        "id": "FKwyTRdwB8aW"
      },
      "source": [
        "## Setup"
      ]
    },
    {
      "cell_type": "markdown",
      "metadata": {
        "id": "rlE8UqxrDIez"
      },
      "source": [
        "### Install & import\n"
      ]
    },
    {
      "cell_type": "code",
      "execution_count": 1,
      "metadata": {
        "id": "cZiU4TKzznh9"
      },
      "outputs": [],
      "source": [
        "!pip install -U -q google-generativeai"
      ]
    },
    {
      "cell_type": "code",
      "execution_count": 2,
      "metadata": {
        "id": "kWIuwKG2_oWE"
      },
      "outputs": [],
      "source": [
        "# import necessary modules.\n",
        "import google.generativeai as genai\n",
        "import json\n",
        "import base64\n",
        "import pathlib\n",
        "import pprint\n",
        "import requests\n",
        "import mimetypes\n",
        "from IPython.display import Markdown"
      ]
    },
    {
      "cell_type": "markdown",
      "metadata": {
        "id": "Fet3lFjdKHEM"
      },
      "source": [
        "## Set the API key"
      ]
    },
    {
      "cell_type": "markdown",
      "metadata": {
        "id": "ZoRWILAtCzBE"
      },
      "source": [
        "Add your API_KEY to the secrets manager in the left pannel \"🔑\"."
      ]
    },
    {
      "cell_type": "code",
      "execution_count": 40,
      "metadata": {
        "id": "LaLCwNlkCyQd"
      },
      "outputs": [],
      "source": [
        "from google.colab import userdata\n",
        "\n",
        "API_KEY=userdata.get('API_KEY')"
      ]
    },
    {
      "cell_type": "code",
      "execution_count": 41,
      "metadata": {
        "id": "_SvYoR3WCeKr"
      },
      "outputs": [],
      "source": [
        "# Configure the client library by providing your API key.\n",
        "genai.configure(api_key=API_KEY)"
      ]
    },
    {
      "cell_type": "markdown",
      "metadata": {
        "id": "E7zAD69vE92b"
      },
      "source": [
        "### Call the API"
      ]
    },
    {
      "cell_type": "code",
      "source": [
        "!sudo apt install tesseract-ocr\n",
        "# Instalação de bibliotecas no Google Colaboratory.\n",
        "\n",
        "!pip install Pillow\n",
        "!pip install pytesseract"
      ],
      "metadata": {
        "colab": {
          "base_uri": "https://localhost:8080/"
        },
        "id": "MWs_jpOv19I2",
        "outputId": "a2c6f172-ba9b-45ea-fb52-54a6fb429fed"
      },
      "execution_count": 42,
      "outputs": [
        {
          "output_type": "stream",
          "name": "stdout",
          "text": [
            "Reading package lists... Done\n",
            "Building dependency tree... Done\n",
            "Reading state information... Done\n",
            "tesseract-ocr is already the newest version (4.1.1-2.1build1).\n",
            "0 upgraded, 0 newly installed, 0 to remove and 45 not upgraded.\n",
            "Requirement already satisfied: Pillow in /usr/local/lib/python3.10/dist-packages (9.4.0)\n",
            "Requirement already satisfied: pytesseract in /usr/local/lib/python3.10/dist-packages (0.3.10)\n",
            "Requirement already satisfied: packaging>=21.3 in /usr/local/lib/python3.10/dist-packages (from pytesseract) (24.0)\n",
            "Requirement already satisfied: Pillow>=8.0.0 in /usr/local/lib/python3.10/dist-packages (from pytesseract) (9.4.0)\n"
          ]
        }
      ]
    },
    {
      "cell_type": "code",
      "metadata": {
        "id": "ldY26daQiVah"
      },
      "source": [
        "# Importando as bibliotecas instaladas.\n",
        "\n",
        "from PIL import Image\n",
        "import pytesseract"
      ],
      "execution_count": 43,
      "outputs": []
    },
    {
      "cell_type": "code",
      "source": [
        "!sudo apt install tesseract-ocr\n",
        "\n",
        "from googleapiclient.discovery import build\n",
        "from googleapiclient.http import MediaFileUpload\n",
        "from google.oauth2 import service_account\n",
        "from google.auth.transport.requests import Request\n",
        "import cv2\n",
        "import pytesseract\n",
        "import pandas as pd\n",
        "import os\n",
        "\n"
      ],
      "metadata": {
        "colab": {
          "base_uri": "https://localhost:8080/"
        },
        "id": "6ICkjZL8yIUx",
        "outputId": "7c9aa669-f201-43f9-dc1a-6628328730e1"
      },
      "execution_count": 44,
      "outputs": [
        {
          "output_type": "stream",
          "name": "stdout",
          "text": [
            "Reading package lists... Done\n",
            "Building dependency tree... Done\n",
            "Reading state information... Done\n",
            "tesseract-ocr is already the newest version (4.1.1-2.1build1).\n",
            "0 upgraded, 0 newly installed, 0 to remove and 45 not upgraded.\n"
          ]
        }
      ]
    },
    {
      "cell_type": "code",
      "source": [
        "# Criar serviços para Drive e Sheets\n",
        "drive_service = build('drive', 'v3', credentials=creds)\n",
        "sheets_service = build('sheets', 'v4', credentials=creds)\n"
      ],
      "metadata": {
        "id": "5FQ3w8tLy0cL"
      },
      "execution_count": 91,
      "outputs": []
    },
    {
      "cell_type": "code",
      "source": [
        "# Dados da pasta do Google Drive\n",
        "pasta_id = \"10X0hMigSttPX6G-L9CQk2cxVuAOP_afR\"\n",
        "\n",
        "# Dados da planilha do Google Sheets\n",
        "dados = \"https://docs.google.com/spreadsheets/d/1NCeucszWQAyks2dLHTrsMKDJJ75xq3C5v6_8h6VsJoo/edit?usp=sharing\"\n",
        "spreadsheet_id = \"1NCeucszWQAyks2dLHTrsMKDJJ75xq3C5v6_8h6VsJoo/edit#gid=0\"\n",
        "sheet_name = \"CatalogoBiblioteca\"\n",
        "\n",
        "# Baixar arquivo de credenciais do Google Drive\n",
        "caminho_arquivo_credenciais = \"https://drive.google.com/drive/folders/1PO18xqlfsTvhh8zVCd4UWV17bb_tyNGl\"\n",
        "\n",
        "# Verifique se o arquivo de credenciais existe localmente\n",
        "if not os.path.exists(service_account_file):\n",
        "    try:\n",
        "        !gdown --id 10X0hMigSttPX6G-L9CQk2cxVuAOP_afR -O {caminho_arquivo_credenciais}\n",
        "    except Exception as e:\n",
        "        print(f\"Erro ao baixar o arquivo de credenciais: {e}\")\n",
        "\n",
        "\n"
      ],
      "metadata": {
        "id": "S3Y4zEy2TL_W",
        "outputId": "6a4c688c-969d-460e-a49a-cc9d2598156b",
        "colab": {
          "base_uri": "https://localhost:8080/"
        }
      },
      "execution_count": 101,
      "outputs": [
        {
          "output_type": "stream",
          "name": "stdout",
          "text": [
            "/usr/local/lib/python3.10/dist-packages/gdown/__main__.py:132: FutureWarning: Option `--id` was deprecated in version 4.3.1 and will be removed in 5.0. You don't need to pass it anymore to use a file ID.\n",
            "  warnings.warn(\n",
            "/usr/local/lib/python3.10/dist-packages/gdown/download.py:32: MarkupResemblesLocatorWarning: The input looks more like a filename than markup. You may want to open this file and pass the filehandle into Beautiful Soup.\n",
            "  soup = bs4.BeautifulSoup(line, features=\"html.parser\")\n",
            "Failed to retrieve file url:\n",
            "\n",
            "\tCannot retrieve the public link of the file. You may need to change\n",
            "\tthe permission to 'Anyone with the link', or have had many accesses.\n",
            "\tCheck FAQ in https://github.com/wkentaro/gdown?tab=readme-ov-file#faq.\n",
            "\n",
            "You may still be able to access the file from the browser:\n",
            "\n",
            "\thttps://drive.google.com/uc?id=10X0hMigSttPX6G-L9CQk2cxVuAOP_afR\n",
            "\n",
            "but Gdown can't. Please check connections and permissions.\n"
          ]
        }
      ]
    },
    {
      "cell_type": "code",
      "source": [
        "# Função para extrair texto da imagem\n",
        "caminho_imagem =\"https://drive.google.com/drive/folders/10X0hMigSttPX6G-L9CQk2cxVuAOP_afR?usp=drive_link\"\n",
        "def extrair_texto(caminho_imagem):\n",
        "   imagem = cv2.imread(caminho_imagem)\n",
        "   texto = pytesseract.image_to_string(imagem)\n",
        "   return texto\n",
        "\n"
      ],
      "metadata": {
        "id": "iimzdSkzy5tu"
      },
      "execution_count": 93,
      "outputs": []
    },
    {
      "cell_type": "code",
      "source": [
        "# Dados da pasta do Google Drive\n",
        "pasta_id = \"10X0hMigSttPX6G-L9CQk2cxVuAOP_afR\"\n",
        "\n",
        "# Dados da planilha do Google Sheets\n",
        "dados = \"https://docs.google.com/spreadsheets/d/1NCeucszWQAyks2dLHTrsMKDJJ75xq3C5v6_8h6VsJoo/edit?usp=sharing\"\n",
        "spreadsheet_id = \"1NCeucszWQAyks2dLHTrsMKDJJ75xq3C5v6_8h6VsJoo/edit#gid=0\"\n",
        "sheet_name = \"CatalogoBiblioteca\"\n",
        "\n",
        "# Baixar arquivo de credenciais do Google Drive\n",
        "caminho_arquivo_credenciais = \"https://drive.google.com/drive/folders/1PO18xqlfsTvhh8zVCd4UWV17bb_tyNGl\"\n",
        "\n",
        "# Verifique se o arquivo de credenciais existe localmente\n",
        "if not os.path.exists(service_account_file):\n",
        "    try:\n",
        "        !gdown --id 10X0hMigSttPX6G-L9CQk2cxVuAOP_afR -O {caminho_arquivo_credenciais}\n",
        "    except Exception as e:\n",
        "        print(f\"Erro ao baixar o arquivo de credenciais: {e}\")\n",
        "\n",
        "# Carregar credenciais da conta de serviço\n",
        "creds = service_account.Credentials.from_service_account_file(\n",
        "    service_account_file, scopes=[\"https://www.googleapis.com/auth/drive\", \"https://www.googleapis.com/auth/spreadsheets\"]\n",
        ")\n",
        "\n",
        "# Criar serviços do Google Drive e Planilhas Google\n",
        "drive_service = build(\"drive\", \"v3\", credentials=creds)\n",
        "sheets_service = build(\"sheets\", \"v4\", credentials=creds)\n"
      ],
      "metadata": {
        "id": "ZWutqZtiS6D5",
        "outputId": "1388fa0d-bc8c-4332-8f33-3c8806097235",
        "colab": {
          "base_uri": "https://localhost:8080/",
          "height": 701
        }
      },
      "execution_count": 94,
      "outputs": [
        {
          "output_type": "stream",
          "name": "stdout",
          "text": [
            "/usr/local/lib/python3.10/dist-packages/gdown/__main__.py:132: FutureWarning: Option `--id` was deprecated in version 4.3.1 and will be removed in 5.0. You don't need to pass it anymore to use a file ID.\n",
            "  warnings.warn(\n",
            "/usr/local/lib/python3.10/dist-packages/gdown/download.py:32: MarkupResemblesLocatorWarning: The input looks more like a filename than markup. You may want to open this file and pass the filehandle into Beautiful Soup.\n",
            "  soup = bs4.BeautifulSoup(line, features=\"html.parser\")\n",
            "Failed to retrieve file url:\n",
            "\n",
            "\tCannot retrieve the public link of the file. You may need to change\n",
            "\tthe permission to 'Anyone with the link', or have had many accesses.\n",
            "\tCheck FAQ in https://github.com/wkentaro/gdown?tab=readme-ov-file#faq.\n",
            "\n",
            "You may still be able to access the file from the browser:\n",
            "\n",
            "\thttps://drive.google.com/uc?id=10X0hMigSttPX6G-L9CQk2cxVuAOP_afR\n",
            "\n",
            "but Gdown can't. Please check connections and permissions.\n"
          ]
        },
        {
          "output_type": "error",
          "ename": "FileNotFoundError",
          "evalue": "[Errno 2] No such file or directory: 'https://drive.google.com/drive/folders/1PO18xqlfsTvhh8zVCd4UWV17bb_tyNGl'",
          "traceback": [
            "\u001b[0;31m---------------------------------------------------------------------------\u001b[0m",
            "\u001b[0;31mFileNotFoundError\u001b[0m                         Traceback (most recent call last)",
            "\u001b[0;32m<ipython-input-94-824569afddbc>\u001b[0m in \u001b[0;36m<cell line: 20>\u001b[0;34m()\u001b[0m\n\u001b[1;32m     18\u001b[0m \u001b[0;34m\u001b[0m\u001b[0m\n\u001b[1;32m     19\u001b[0m \u001b[0;31m# Carregar credenciais da conta de serviço\u001b[0m\u001b[0;34m\u001b[0m\u001b[0;34m\u001b[0m\u001b[0m\n\u001b[0;32m---> 20\u001b[0;31m creds = service_account.Credentials.from_service_account_file(\n\u001b[0m\u001b[1;32m     21\u001b[0m     \u001b[0mservice_account_file\u001b[0m\u001b[0;34m,\u001b[0m \u001b[0mscopes\u001b[0m\u001b[0;34m=\u001b[0m\u001b[0;34m[\u001b[0m\u001b[0;34m\"https://www.googleapis.com/auth/drive\"\u001b[0m\u001b[0;34m,\u001b[0m \u001b[0;34m\"https://www.googleapis.com/auth/spreadsheets\"\u001b[0m\u001b[0;34m]\u001b[0m\u001b[0;34m\u001b[0m\u001b[0;34m\u001b[0m\u001b[0m\n\u001b[1;32m     22\u001b[0m )\n",
            "\u001b[0;32m/usr/local/lib/python3.10/dist-packages/google/oauth2/service_account.py\u001b[0m in \u001b[0;36mfrom_service_account_file\u001b[0;34m(cls, filename, **kwargs)\u001b[0m\n\u001b[1;32m    255\u001b[0m                 \u001b[0mcredentials\u001b[0m\u001b[0;34m.\u001b[0m\u001b[0;34m\u001b[0m\u001b[0;34m\u001b[0m\u001b[0m\n\u001b[1;32m    256\u001b[0m         \"\"\"\n\u001b[0;32m--> 257\u001b[0;31m         info, signer = _service_account_info.from_filename(\n\u001b[0m\u001b[1;32m    258\u001b[0m             \u001b[0mfilename\u001b[0m\u001b[0;34m,\u001b[0m \u001b[0mrequire\u001b[0m\u001b[0;34m=\u001b[0m\u001b[0;34m[\u001b[0m\u001b[0;34m\"client_email\"\u001b[0m\u001b[0;34m,\u001b[0m \u001b[0;34m\"token_uri\"\u001b[0m\u001b[0;34m]\u001b[0m\u001b[0;34m\u001b[0m\u001b[0;34m\u001b[0m\u001b[0m\n\u001b[1;32m    259\u001b[0m         )\n",
            "\u001b[0;32m/usr/local/lib/python3.10/dist-packages/google/auth/_service_account_info.py\u001b[0m in \u001b[0;36mfrom_filename\u001b[0;34m(filename, require, use_rsa_signer)\u001b[0m\n\u001b[1;32m     76\u001b[0m             \u001b[0minfo\u001b[0m \u001b[0;32mand\u001b[0m \u001b[0ma\u001b[0m \u001b[0msigner\u001b[0m \u001b[0minstance\u001b[0m\u001b[0;34m.\u001b[0m\u001b[0;34m\u001b[0m\u001b[0;34m\u001b[0m\u001b[0m\n\u001b[1;32m     77\u001b[0m     \"\"\"\n\u001b[0;32m---> 78\u001b[0;31m     \u001b[0;32mwith\u001b[0m \u001b[0mio\u001b[0m\u001b[0;34m.\u001b[0m\u001b[0mopen\u001b[0m\u001b[0;34m(\u001b[0m\u001b[0mfilename\u001b[0m\u001b[0;34m,\u001b[0m \u001b[0;34m\"r\"\u001b[0m\u001b[0;34m,\u001b[0m \u001b[0mencoding\u001b[0m\u001b[0;34m=\u001b[0m\u001b[0;34m\"utf-8\"\u001b[0m\u001b[0;34m)\u001b[0m \u001b[0;32mas\u001b[0m \u001b[0mjson_file\u001b[0m\u001b[0;34m:\u001b[0m\u001b[0;34m\u001b[0m\u001b[0;34m\u001b[0m\u001b[0m\n\u001b[0m\u001b[1;32m     79\u001b[0m         \u001b[0mdata\u001b[0m \u001b[0;34m=\u001b[0m \u001b[0mjson\u001b[0m\u001b[0;34m.\u001b[0m\u001b[0mload\u001b[0m\u001b[0;34m(\u001b[0m\u001b[0mjson_file\u001b[0m\u001b[0;34m)\u001b[0m\u001b[0;34m\u001b[0m\u001b[0;34m\u001b[0m\u001b[0m\n\u001b[1;32m     80\u001b[0m         \u001b[0;32mreturn\u001b[0m \u001b[0mdata\u001b[0m\u001b[0;34m,\u001b[0m \u001b[0mfrom_dict\u001b[0m\u001b[0;34m(\u001b[0m\u001b[0mdata\u001b[0m\u001b[0;34m,\u001b[0m \u001b[0mrequire\u001b[0m\u001b[0;34m=\u001b[0m\u001b[0mrequire\u001b[0m\u001b[0;34m,\u001b[0m \u001b[0muse_rsa_signer\u001b[0m\u001b[0;34m=\u001b[0m\u001b[0muse_rsa_signer\u001b[0m\u001b[0;34m)\u001b[0m\u001b[0;34m\u001b[0m\u001b[0;34m\u001b[0m\u001b[0m\n",
            "\u001b[0;31mFileNotFoundError\u001b[0m: [Errno 2] No such file or directory: 'https://drive.google.com/drive/folders/1PO18xqlfsTvhh8zVCd4UWV17bb_tyNGl'"
          ]
        }
      ]
    },
    {
      "cell_type": "code",
      "source": [
        "# Função para processar imagens de uma pasta do Google Drive\n",
        "pasta_id =\"10X0hMigSttPX6G-L9CQk2cxVuAOP_afR\"\n",
        "def processar_imagens(pasta_id):\n",
        "    resultados = []  # Initialize the resultados list\n",
        "    arquivos = drive_service.files().list(q=f\"'{pasta_id}' in parents\", fields='files(id, name)').execute()\n",
        "    for arquivo in arquivos.get('files', []):\n",
        "        if arquivo['name'].lower().endswith(('.jpg', '.jpeg', '.png')):\n",
        "            print(f\"Processando imagem: {arquivo['name']}\")\n",
        "            # Download da imagem do Google Drive\n",
        "            request = drive_service.files().get_media(fileId=arquivo['id'])\n",
        "            fh = io.BytesIO()\n",
        "            downloader = MediaIoBaseDownload(fh, request)\n",
        "            done = False\n",
        "            while done is False:\n",
        "                status, done = downloader.next_chunk()\n",
        "            fh.seek(0)\n",
        "            # Extrair texto da imagem\n",
        "            texto = extrair_texto(fh)\n",
        "\n",
        "            # Extrair informações relevantes do texto (título, autor, etc.)\n",
        "            # (You will need to implement the specific logic here based on the structure of the text)\n",
        "            # ...\n",
        "                        # Adicionar informações à lista de resultados\n",
        "            resultados.append({\n",
        "                'Título': titulo,\n",
        "                'Autor': autor,\n",
        "                'Editora': editora,\n",
        "                'Ano': ano,\n",
        "                'ISBN': isbn,\n",
        "            })\n",
        "\n",
        "    return resultados\n",
        "\n",
        "\n",
        "\n"
      ],
      "metadata": {
        "id": "3-7nw7EQzDWR"
      },
      "execution_count": 95,
      "outputs": []
    },
    {
      "cell_type": "code",
      "source": [
        "\n",
        "# Função para exportar dados para o Google Sheets\n",
        "dados = \"https://docs.google.com/spreadsheets/d/1NCeucszWQAyks2dLHTrsMKDJJ75xq3C5v6_8h6VsJoo/edit?usp=sharing\"\n",
        "spreadsheet_is = \"1NCeucszWQAyks2dLHTrsMKDJJ75xq3C5v6_8h6VsJoo/edit#gid=0\"\n",
        "def exportar_para_sheets(dados, spreadsheet_id, sheet_name='CatalogoBiblioteca'):\n",
        "   valores = [list(dados.values()) for dado in dados]\n",
        "   corpo = {\n",
        "       'values': valores\n",
        "   }\n",
        "   sheets_service.spreadsheets().values().update(\n",
        "       spreadsheetId=spreadsheet_id, range=f'{sheet_name}!A1',\n",
        "       valueInputOption='RAW', body=corpo).execute()\n",
        "\n",
        "# ID da pasta \"BibliotecaHeranca\" no Google Drive\n",
        "# pasta_id =\"10X0hMigSttPX6G-L9CQk2cxVuAOP_afR\"\n",
        "\n",
        "# Processar imagens da pasta#\n",
        "#dados = processar_imagens(pasta_id)\n",
        "\n",
        "\n"
      ],
      "metadata": {
        "id": "rQs4oEB6zJQI"
      },
      "execution_count": 98,
      "outputs": []
    }
  ],
  "metadata": {
    "colab": {
      "collapsed_sections": [
        "Tce3stUlHN0L"
      ],
      "name": "aistudio_gemini_prompt_chat_b64.ipynb",
      "provenance": [],
      "include_colab_link": true
    },
    "kernelspec": {
      "display_name": "Python 3",
      "name": "python3"
    }
  },
  "nbformat": 4,
  "nbformat_minor": 0
}